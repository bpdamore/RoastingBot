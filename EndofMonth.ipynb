{
 "metadata": {
  "language_info": {
   "codemirror_mode": {
    "name": "ipython",
    "version": 3
   },
   "file_extension": ".py",
   "mimetype": "text/x-python",
   "name": "python",
   "nbconvert_exporter": "python",
   "pygments_lexer": "ipython3",
   "version": "3.8.3-final"
  },
  "orig_nbformat": 2,
  "kernelspec": {
   "name": "python3",
   "display_name": "Python 3"
  }
 },
 "nbformat": 4,
 "nbformat_minor": 2,
 "cells": [
  {
   "cell_type": "code",
   "execution_count": 9,
   "metadata": {},
   "outputs": [],
   "source": [
    "import os, calendar\n",
    "import pandas as pd"
   ]
  },
  {
   "cell_type": "code",
   "execution_count": 14,
   "metadata": {},
   "outputs": [
    {
     "output_type": "execute_result",
     "data": {
      "text/plain": [
       "'10_31'"
      ]
     },
     "metadata": {},
     "execution_count": 14
    }
   ],
   "source": [
    "lastDay = \"10_\"\n",
    "lastDay += str(calendar.monthrange(2020,10)[1])\n",
    "lastDay"
   ]
  },
  {
   "cell_type": "code",
   "execution_count": 2,
   "metadata": {},
   "outputs": [],
   "source": [
    "data = pd.read_csv(\"report/sales.csv\")"
   ]
  },
  {
   "cell_type": "code",
   "execution_count": 3,
   "metadata": {},
   "outputs": [],
   "source": [
    "df = data[['product_title','variant_sku','net_quantity']].copy()"
   ]
  },
  {
   "cell_type": "code",
   "execution_count": 4,
   "metadata": {},
   "outputs": [],
   "source": [
    "df['net_quantity'] = df['net_quantity']*-1"
   ]
  },
  {
   "cell_type": "code",
   "execution_count": 5,
   "metadata": {},
   "outputs": [
    {
     "output_type": "stream",
     "name": "stdout",
     "text": [
      "Bottomless Drip Plan Auto Renew\ndropping row 15\n\nBottomless Drip Plan Auto Renew (Ships every 31 Days)\ndropping row 30\n\nExpedited Order Fee\ndropping row 54\n\nBottomless Drip Plan\ndropping row 57\n\nShipping\ndropping row 88\n\n"
     ]
    }
   ],
   "source": [
    "for index,row in df.iterrows():\n",
    "    if \"Bottomless Drip Plan\" in row[\"product_title\"]:\n",
    "        print(row[\"product_title\"])\n",
    "        print(f\"dropping row {index}\\n\")\n",
    "        df.drop(index, inplace=True)\n",
    "    elif \"Shipping\" in row[\"product_title\"]:\n",
    "        print(row[\"product_title\"])\n",
    "        print(f\"dropping row {index}\\n\")\n",
    "        df.drop(index, inplace=True)\n",
    "    elif \"Expedited Order Fee\" in row[\"product_title\"]:\n",
    "        print(row[\"product_title\"])\n",
    "        print(f\"dropping row {index}\\n\")\n",
    "        df.drop(index, inplace=True)\n",
    "    "
   ]
  },
  {
   "cell_type": "code",
   "execution_count": 6,
   "metadata": {},
   "outputs": [],
   "source": [
    "sampDex = []\n",
    "df2 = df[df[\"product_title\"].str.contains(\"Sample|sample\")].copy()\n",
    "for i,r in df2.iterrows():\n",
    "    sampDex.append(i)\n",
    "\n",
    "for i,r in df.iterrows():\n",
    "    if i in sampDex:\n",
    "        df.drop(i, inplace=True)\n"
   ]
  },
  {
   "cell_type": "code",
   "execution_count": 42,
   "metadata": {},
   "outputs": [],
   "source": [
    "for i,r in df.iterrows():\n",
    "    try:\n",
    "        if r['variant_sku'][-2:] == \"CS\":\n",
    "            print(i)\n",
    "            print(f\"{r['product_title']} - {r['variant_sku']} - {r['net_quantity']}\")\n",
    "            df.at[i,\"variant_sku\"] = r[\"variant_sku\"][:-2]+\"WB\"\n",
    "            df.at[i,\"net_quantity\"] = r[\"net_quantity\"]*6\n",
    "        elif r['variant_sku'][-2:] == \"GR\":\n",
    "            df.at[i,\"variant_sku\"] = r['variant_sku'][:-2]+\"WB\"\n",
    "            # print(f\"{r['product_title']} - {r['variant_sku']} - {r['net_quantity']}\\n\\n\")\n",
    "    except TypeError:\n",
    "        pass"
   ]
  },
  {
   "cell_type": "code",
   "execution_count": 44,
   "metadata": {},
   "outputs": [
    {
     "output_type": "stream",
     "name": "stdout",
     "text": [
      "CUB5LBWB\nGBG5LBWB\nCAA5LBWB\nHTB5LBWB\nCLE5LBWB\nAOB5LBWB\nCAA12OZWB\nGBG12OZWB\nCDC5LBWB\nEBN12OZWB\nCUB12OZWB\nDCH5LBWB\nHTB2LBWB\nCLP5LBWB\nCUB5LBWB\nDCH12OZWB\nCUB2LBWB\nBPB5LBWB\nUAE5LBWB\nAOB2LBWB\nnan\nEBN5LBWB\nCDC2LBWB\nHTB12OZWB\nCLE12OZWB\nHTB5LBWB\nUAE5LBWB\nCLP2LBWB\nnan\nnan\nGBG12OZWB\nCLP12OZWB\nCLP5LBWB\nCDC12OZWB\nUAE2LBWB\nCDC5LBWB\nnan\nBPB12OZWB\nDCH2LBWB\nEBN12OZWB\nCLP12OZWB\nHTB2LBWB\nBPB2LBWB\nDCH12OZWB\nAOB12OZWB\nEBN2LBWB\nHTB12OZWB\nCUB12OZWB\nUAE12OZWB\nCLE12OZWB\nOMATSF100-RP\nCDC2LBWB\nnan\nOMCCTP-EA\nnan\nCLP2LBWB\nnan\nCAA12OZWB\nCLE12OZWB\nnan\nAOB12OZWB\nHTB12OZWB\nBPB12OZWB\nDCH4OZWB\nCLE4OZWB\nEBN4OZWB\nEBN4OZWB\nCAA4OZWB\nCLP4OZWB\nGBG4OZWB\nBPB4OZWB\nHTB4OZWB\nRNN12OZWB\nRNW12OZWB\n"
     ]
    }
   ],
   "source": [
    "for i,r in df.iterrows():\n",
    "    print(r[\"variant_sku\"])"
   ]
  },
  {
   "cell_type": "code",
   "execution_count": 8,
   "metadata": {},
   "outputs": [
    {
     "output_type": "stream",
     "name": "stdout",
     "text": [
      "Sample Decaf Caldas\nSample Asoagroambiente\nSample Paubrasil\nSample A-Okay\nSample Up & At 'Em\nSample Estate La Esperanza\nSample Deck the Halls\nSample Chin Up\nSample Palmera\nSample Chin Up\nSample Hang Tough\nSample Finca Cedral Alto Natural\nSample A-Okay\nSample Hutwe\nSample Paubrasil\nSample Barrancas\nSample Barrancas\nSample Hutwe\nSample Palmera\nSample Aquiares\nSample Up & At 'Em\nSample Aquiares\nSample Asoagroambiente\nSample Hang Tough\nSample Estate La Esperanza\n"
     ]
    }
   ],
   "source": [
    "for i,r in df2.iterrows():\n",
    "    print(r['product_title'])"
   ]
  },
  {
   "cell_type": "code",
   "execution_count": 20,
   "metadata": {},
   "outputs": [],
   "source": [
    "prods = df[[\"variant_sku\",\"net_quantity\"]].copy()\n",
    "samps = df2[[\"variant_sku\",\"net_quantity\"]].copy()"
   ]
  },
  {
   "cell_type": "code",
   "execution_count": 21,
   "metadata": {},
   "outputs": [],
   "source": [
    "prods[\"External_ID\"]=800545\n",
    "samps[\"External_ID\"]=800546"
   ]
  },
  {
   "cell_type": "code",
   "execution_count": 22,
   "metadata": {},
   "outputs": [
    {
     "output_type": "execute_result",
     "data": {
      "text/plain": [
       "    variant_sku  net_quantity  External_ID\n",
       "76    CDC12OZWB            -7       800546\n",
       "78     CAA4OZWB            -5       800546\n",
       "79    BPB12OZWB           -15       800546\n",
       "80    AOB12OZWB            -2       800546\n",
       "81     UAE4OZWB            -2       800546\n",
       "82    CLE12OZWB            -7       800546\n",
       "83          NaN            -1       800546\n",
       "84     CUB4OZWB            -6       800546\n",
       "85     CLP4OZWB            -5       800546\n",
       "86    CUB12OZWB           -13       800546\n",
       "87     HTB4OZWB            -7       800546\n",
       "89     RNN4OZWB           -13       800546\n",
       "90     AOB4OZWB            -3       800546\n",
       "92    DCH12OZWB            -3       800546\n",
       "93     BPB4OZWB            -6       800546\n",
       "94    EBN12OZWB            -7       800546\n",
       "95     EBN4OZWB            -1       800546\n",
       "96     DCH4OZWB            -6       800546\n",
       "97    CLP12OZWB            -9       800546\n",
       "98     CRA4OZWB            -4       800546\n",
       "99    UAE12OZWB            -1       800546\n",
       "100   CRA12OZWB            -2       800546\n",
       "101   CAA12OZWB            -1       800546\n",
       "102   HTB12OZWB           -18       800546\n",
       "103    CLE4OZWB            -4       800546"
      ],
      "text/html": "<div>\n<style scoped>\n    .dataframe tbody tr th:only-of-type {\n        vertical-align: middle;\n    }\n\n    .dataframe tbody tr th {\n        vertical-align: top;\n    }\n\n    .dataframe thead th {\n        text-align: right;\n    }\n</style>\n<table border=\"1\" class=\"dataframe\">\n  <thead>\n    <tr style=\"text-align: right;\">\n      <th></th>\n      <th>variant_sku</th>\n      <th>net_quantity</th>\n      <th>External_ID</th>\n    </tr>\n  </thead>\n  <tbody>\n    <tr>\n      <th>76</th>\n      <td>CDC12OZWB</td>\n      <td>-7</td>\n      <td>800546</td>\n    </tr>\n    <tr>\n      <th>78</th>\n      <td>CAA4OZWB</td>\n      <td>-5</td>\n      <td>800546</td>\n    </tr>\n    <tr>\n      <th>79</th>\n      <td>BPB12OZWB</td>\n      <td>-15</td>\n      <td>800546</td>\n    </tr>\n    <tr>\n      <th>80</th>\n      <td>AOB12OZWB</td>\n      <td>-2</td>\n      <td>800546</td>\n    </tr>\n    <tr>\n      <th>81</th>\n      <td>UAE4OZWB</td>\n      <td>-2</td>\n      <td>800546</td>\n    </tr>\n    <tr>\n      <th>82</th>\n      <td>CLE12OZWB</td>\n      <td>-7</td>\n      <td>800546</td>\n    </tr>\n    <tr>\n      <th>83</th>\n      <td>NaN</td>\n      <td>-1</td>\n      <td>800546</td>\n    </tr>\n    <tr>\n      <th>84</th>\n      <td>CUB4OZWB</td>\n      <td>-6</td>\n      <td>800546</td>\n    </tr>\n    <tr>\n      <th>85</th>\n      <td>CLP4OZWB</td>\n      <td>-5</td>\n      <td>800546</td>\n    </tr>\n    <tr>\n      <th>86</th>\n      <td>CUB12OZWB</td>\n      <td>-13</td>\n      <td>800546</td>\n    </tr>\n    <tr>\n      <th>87</th>\n      <td>HTB4OZWB</td>\n      <td>-7</td>\n      <td>800546</td>\n    </tr>\n    <tr>\n      <th>89</th>\n      <td>RNN4OZWB</td>\n      <td>-13</td>\n      <td>800546</td>\n    </tr>\n    <tr>\n      <th>90</th>\n      <td>AOB4OZWB</td>\n      <td>-3</td>\n      <td>800546</td>\n    </tr>\n    <tr>\n      <th>92</th>\n      <td>DCH12OZWB</td>\n      <td>-3</td>\n      <td>800546</td>\n    </tr>\n    <tr>\n      <th>93</th>\n      <td>BPB4OZWB</td>\n      <td>-6</td>\n      <td>800546</td>\n    </tr>\n    <tr>\n      <th>94</th>\n      <td>EBN12OZWB</td>\n      <td>-7</td>\n      <td>800546</td>\n    </tr>\n    <tr>\n      <th>95</th>\n      <td>EBN4OZWB</td>\n      <td>-1</td>\n      <td>800546</td>\n    </tr>\n    <tr>\n      <th>96</th>\n      <td>DCH4OZWB</td>\n      <td>-6</td>\n      <td>800546</td>\n    </tr>\n    <tr>\n      <th>97</th>\n      <td>CLP12OZWB</td>\n      <td>-9</td>\n      <td>800546</td>\n    </tr>\n    <tr>\n      <th>98</th>\n      <td>CRA4OZWB</td>\n      <td>-4</td>\n      <td>800546</td>\n    </tr>\n    <tr>\n      <th>99</th>\n      <td>UAE12OZWB</td>\n      <td>-1</td>\n      <td>800546</td>\n    </tr>\n    <tr>\n      <th>100</th>\n      <td>CRA12OZWB</td>\n      <td>-2</td>\n      <td>800546</td>\n    </tr>\n    <tr>\n      <th>101</th>\n      <td>CAA12OZWB</td>\n      <td>-1</td>\n      <td>800546</td>\n    </tr>\n    <tr>\n      <th>102</th>\n      <td>HTB12OZWB</td>\n      <td>-18</td>\n      <td>800546</td>\n    </tr>\n    <tr>\n      <th>103</th>\n      <td>CLE4OZWB</td>\n      <td>-4</td>\n      <td>800546</td>\n    </tr>\n  </tbody>\n</table>\n</div>"
     },
     "metadata": {},
     "execution_count": 22
    }
   ],
   "source": []
  },
  {
   "cell_type": "code",
   "execution_count": null,
   "metadata": {},
   "outputs": [],
   "source": []
  }
 ]
}