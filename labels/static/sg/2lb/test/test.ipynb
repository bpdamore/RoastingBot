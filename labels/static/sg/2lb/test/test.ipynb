{
 "metadata": {
  "language_info": {
   "codemirror_mode": {
    "name": "ipython",
    "version": 3
   },
   "file_extension": ".py",
   "mimetype": "text/x-python",
   "name": "python",
   "nbconvert_exporter": "python",
   "pygments_lexer": "ipython3",
   "version": "3.8.3-final"
  },
  "orig_nbformat": 2,
  "kernelspec": {
   "name": "python383jvsc74a57bd01c5455e1b934c5f11053ae348db8813a5ff5d32791cdb82424f3fbf4ea2052f5",
   "display_name": "Python 3.8.3 64-bit (conda)"
  }
 },
 "nbformat": 4,
 "nbformat_minor": 2,
 "cells": [
  {
   "cell_type": "code",
   "execution_count": 1,
   "metadata": {},
   "outputs": [],
   "source": [
    "import os"
   ]
  },
  {
   "cell_type": "code",
   "execution_count": 21,
   "metadata": {},
   "outputs": [],
   "source": [
    "os.chdir('../')"
   ]
  },
  {
   "cell_type": "code",
   "execution_count": 26,
   "metadata": {},
   "outputs": [
    {
     "output_type": "stream",
     "name": "stdout",
     "text": [
      "AOB.HTML\nBPB.html\nCAA.html\nCDC.html\nCLE.html\nCLP.html\nCRA.HTML\nCUB.html\nDCH.html\nDTH.HTML\nEBN.html\nEGC.HTML\nGBG.html\nGSE.HTML\nHTB.html\nPKV.HTML\nPVV.HTML\nRNN.html\nUAE.html\n"
     ]
    }
   ],
   "source": [
    "for f in os.listdir():\n",
    "    if \"html\" in f.lower():\n",
    "        with open(f,'r') as labe:\n",
    "            htm = labe.read()\n",
    "            print(labe.name)\n",
    "        try:\n",
    "            one,two=htm.split('<link href=\"https://cdn.shopify.com/s/files/1/0040/9272/3318/files/labestyle.css\" rel=\"stylesheet\"/>')\n",
    "            new = '<link href=\"https://cdn.shopify.com/s/files/1/0040/9272/3318/files/labestyle.css?v=1617857070\" rel=\"stylesheet\"/>'\n",
    "        except ValueError:\n",
    "            try:\n",
    "                one,two=htm.split('<link href=\"labestyle.css\" rel=\"stylesheet\"/>')\n",
    "                new = '<link href=\"https://cdn.shopify.com/s/files/1/0040/9272/3318/files/labestyle.css?v=1617857070\" rel=\"stylesheet\"/>'\n",
    "            except ValueError:\n",
    "                try:\n",
    "                    one,two=htm.split('<link href=\"https://cdn.shopify.com/s/files/1/0040/9272/3318/files/labestyle.css?v=1617857070\" rel=\"stylesheet\"/>')\n",
    "                    new = '<link href=\"https://cdn.shopify.com/s/files/1/0040/9272/3318/files/labestyle.css?v=1617857070\" rel=\"stylesheet\"/>'\n",
    "                except Exception as err:\n",
    "                    print(f\"ERROR\\n{err}\")\n",
    "        htm = one+new+two\n",
    "        with open(f,'w') as labe:\n",
    "            labe.write(htm)\n"
   ]
  },
  {
   "cell_type": "code",
   "execution_count": 23,
   "metadata": {},
   "outputs": [],
   "source": [
    "os.chdir('../5lb/')"
   ]
  },
  {
   "cell_type": "code",
   "execution_count": 24,
   "metadata": {},
   "outputs": [
    {
     "output_type": "execute_result",
     "data": {
      "text/plain": [
       "['AOB.HTML',\n",
       " 'BPB.html',\n",
       " 'CAA.html',\n",
       " 'CDC.html',\n",
       " 'CLE.html',\n",
       " 'CLP.html',\n",
       " 'CRA.HTML',\n",
       " 'CUB.html',\n",
       " 'DCH.html',\n",
       " 'DTH.HTML',\n",
       " 'EBN.html',\n",
       " 'EGC.HTML',\n",
       " 'fonts',\n",
       " 'GBG.html',\n",
       " 'GSE.HTML',\n",
       " 'HTB.html',\n",
       " 'labestyle.css',\n",
       " 'PKV.HTML',\n",
       " 'PVV.HTML',\n",
       " 'RNN.html',\n",
       " 'UAE.html',\n",
       " 'unused']"
      ]
     },
     "metadata": {},
     "execution_count": 24
    }
   ],
   "source": []
  },
  {
   "cell_type": "code",
   "execution_count": null,
   "metadata": {},
   "outputs": [],
   "source": []
  }
 ]
}